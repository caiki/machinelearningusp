{
 "cells": [
  {
   "cell_type": "code",
   "execution_count": 1,
   "metadata": {
    "collapsed": true
   },
   "outputs": [],
   "source": [
    "import numpy as np\n",
    "import matplotlib.pyplot as plt\n",
    "\n",
    "from sklearn import svm\n",
    "from sklearn import preprocessing\n",
    "\n",
    "from sklearn.model_selection import StratifiedShuffleSplit\n",
    "from sklearn.model_selection import GridSearchCV"
   ]
  },
  {
   "cell_type": "markdown",
   "metadata": {},
   "source": [
    "# MAC0460/5832 - Lista 4: SVM - MNIST\n",
    "\n",
    "### Data de Entrega: 23h55m do dia XX/07/2017\n",
    "\n",
    "##### Classificação de dígitos\n",
    "Os dataset para esta tarefa é uma adaptação do disponível na competição do kaggle de reconhecimento de dígitos (https://www.kaggle.com/c/digit-recognizer) e está disponível em http://vision.ime.usp.br/~caiomr/mac0460_5832/train_svm.csv.gz. O dataset está sob a licença Creative Commons Attribution-Share Alike 3.0 license (https://creativecommons.org/licenses/by-sa/3.0/). O dataset foi zipado, e apenas os dígitos 5 e 6 foram mantidos. Cada linha (amostra) do arquivo contém 257 colunas: a primeira informa o label da amostra (0 para o dígito 5, 1 para o dígito 6) e as outras 256 são os valores dos pixels da imagem (16 x 16) que representa o dígito.\n",
    "\n",
    "Note que esse dataset difere do usado no EP3: as imagens sofreram pequenas rotações e translações aleatórias, além de terem sido escalonadas para o tamanho 16x16. Veja também que pode ser necessário realizar algum tipo de normalização para realizar um treinamento efetivo com SVM. Para auxiliar na normalização dos dados, consultem o seguinte link: http://scikit-learn.org/stable/modules/preprocessing.html. \n",
    "\n",
    "Q1. Use SVM para classificar os dígitos 5 e 6. Utilize as funções do scikit learn (http://scikit-learn.org/, http://scikit-learn.org/stable/modules/svm.html) para realizar o treinamento.\n",
    "\n",
    "Teste os kernels linear e RBF da seguinte maneira:\n",
    "1. Escolha aleatoriamente 932 amostras para formarem o conjunto de teste.\n",
    "2. Com as 7000 amostras restantes, utilize validação cruzada (com número de folds K = 5) para escolher os parâmetros do seu classificador, isto é: C (peso da *soft margin*) para o kernel linear; C e gamma para o kernel RBF.\n",
    "3. Plote a curva experimental de aprendizado para o melhor SVM com kernel linear e o melhor SVM com kernel RBF escolhidos por validação cruzada. Use as 932 amostras do conjunto de teste para estimar $E_{out}$. Comente sobre o resultado."
   ]
  },
  {
   "cell_type": "code",
   "execution_count": 2,
   "metadata": {
    "collapsed": false
   },
   "outputs": [
    {
     "name": "stdout",
     "output_type": "stream",
     "text": [
      "(7932, 257)\n"
     ]
    }
   ],
   "source": [
    "data = np.genfromtxt('data/train_svm.csv', delimiter=',')\n",
    "print(data.shape)"
   ]
  },
  {
   "cell_type": "markdown",
   "metadata": {},
   "source": [
    "### Preparação dos dados\n",
    "\n",
    "* separação dos dados em conjuntos de imagens e labels de teste (932 amostras selecionadas aleatoriamente) e treino (7000 amostras restantes)\n",
    "* normalização dos valores das imagens usando o preprocessing"
   ]
  },
  {
   "cell_type": "code",
   "execution_count": 3,
   "metadata": {
    "collapsed": false
   },
   "outputs": [
    {
     "name": "stdout",
     "output_type": "stream",
     "text": [
      "((7000, 256), (932, 256), (7000,), (932,))\n"
     ]
    },
    {
     "data": {
      "image/png": "[encoded data removed]",
      "text/plain": [
       "<matplotlib.figure.Figure at 0x7f03eb5e38d0>"
      ]
     },
     "metadata": {},
     "output_type": "display_data"
    }
   ],
   "source": [
    "def extract_data(data):\n",
    "    images = np.array([x[1:] for x in data])\n",
    "    labels = np.array([x[0] for x in data])\n",
    "    return [images, labels]\n",
    "\n",
    "images, labels = extract_data(data)\n",
    "images = preprocessing.normalize(images)\n",
    "\n",
    "def shuffle_indices(ndata, ntest):\n",
    "    idtest = np.random.choice(ndata, ntest, replace=False)\n",
    "    idtrain = np.array(filter(lambda x: x not in idtest, range(ndata)))\n",
    "    return [idtrain, idtest]\n",
    "\n",
    "\n",
    "idtrain, idtest = shuffle_indices(7932, 932)\n",
    "\n",
    "img_train = images[idtrain]\n",
    "img_test = images[idtest]\n",
    "lbl_train = labels[idtrain]\n",
    "lbl_test = labels[idtest]\n",
    "\n",
    "print (img_train.shape, img_test.shape, lbl_train.shape, lbl_test.shape)\n",
    "\n",
    "plt.imshow(img_train[0].reshape((16, 16)), cmap='gray')\n",
    "plt.show()"
   ]
  },
  {
   "cell_type": "code",
   "execution_count": null,
   "metadata": {
    "collapsed": true
   },
   "outputs": [],
   "source": [
    "# ndata = 7000\n",
    "# e_val = []\n",
    "# for C in np.logspace(-3, 8, 12) # testa todos os valores de C = 10^i, com i variando de -3 a 8\n",
    "#     for k in range 5\n",
    "#         lin_clf = svm.SVC(kernel='linear', C=C)\n",
    "#         val_i = range(k*ndata/5, ((k+1)*ndata/5))\n",
    "#         tr_i = filter(lambda x: x not in val_idx, range(ndata))\n",
    "#         lin_clf.fit(img_train[tr_i], lbl_train[tr_i])\n",
    "#         pred = lin_clf.predict(img_train[val_i], lbl_train[val_i])\n",
    "#         e_val.append(sum(abs(pred-lbl_train[val_i]))) \n",
    "\n",
    "\n",
    "# StratifiedShuffleSplit faz o cross-validation. Para esse problema, \n",
    "# estamos separando o dataset de treino (7000 imagens) em 5 grupos. \n",
    "# Em cada rodada, um desses grupos sera removido e usado para \n",
    "# validacao do treino efetuado com os outros 4\n",
    "crossval = StratifiedShuffleSplit(n_splits=5, test_size=0.2)\n",
    "\n",
    "# C vai assumir os valores 10^i, com i variando de -1 a 6\n",
    "c_range = np.logspace(-1, 6, 8) \n",
    "# gamma vai assumir os valores 4^i, com i variando de -4 a 3\n",
    "gamma_range = np.logspace(-4, 3, 8)\n",
    "\n",
    "# GridSearchCV faz uma busca exaustiva no espaco de parametros passado, testando cada um deles\n",
    "grid_lin = GridSearchCV(svm.SVC(kernel='linear', cache_size=1000), \n",
    "                        param_grid=dict(C=c_range), \n",
    "                        cv=crossval, n_jobs=-1)\n",
    "grid_lin.fit(X=img_train, y=lbl_train)\n",
    "\n",
    "print(\"Kernel linear --- \")\n",
    "print(\"Melhor valor para C: %s com e_out de %0.5f\" % (grid_lin.best_params_, grid_lin.best_score_))\n",
    "\n",
    "\n",
    "grid_rbf = GridSearchCV(svm.SVC(kernel='rbf', cache_size=1000), \n",
    "                        param_grid=dict(C=c_range, gamma=gamma_range), \n",
    "                        cv=crossval, n_jobs=-1)\n",
    "grid_rbf.fit(X=img_train, y=lbl_train)\n",
    "\n",
    "print(\"Kernel RBF --- \")\n",
    "print(\"Melhor valor para os parâmetros: %s com e_out de %0.5f\" % (grid_rbf.best_params_, grid_rbf.best_score_))\n",
    "\n"
   ]
  },
  {
   "cell_type": "code",
   "execution_count": null,
   "metadata": {
    "collapsed": true
   },
   "outputs": [],
   "source": []
  }
 ],
 "metadata": {
  "kernelspec": {
   "display_name": "Python 2",
   "language": "python",
   "name": "python2"
  },
  "language_info": {
   "codemirror_mode": {
    "name": "ipython",
    "version": 2
   },
   "file_extension": ".py",
   "mimetype": "text/x-python",
   "name": "python",
   "nbconvert_exporter": "python",
   "pygments_lexer": "ipython2",
   "version": "2.7.13"
  }
 },
 "nbformat": 4,
 "nbformat_minor": 2
}
