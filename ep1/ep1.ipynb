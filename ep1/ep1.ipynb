{
 "cells": [
  {
   "cell_type": "code",
   "execution_count": null,
   "metadata": {
    "collapsed": false,
    "deletable": true,
    "editable": true
   },
   "outputs": [],
   "source": [
    "%matplotlib inline\n",
    "import matplotlib.pyplot as plt\n",
    "import numpy as np\n",
    "import PIL\n",
    "\n",
    "from mac0460_5832.utils import *\n",
    "from ep1 import *"
   ]
  },
  {
   "cell_type": "markdown",
   "metadata": {
    "deletable": true,
    "editable": true
   },
   "source": [
    "# MAC0460/5832 - Lista 1: Aprendizado de W-Operadores\n",
    "\n",
    "### Data de Entrega: 23h55m do dia 05/05/2017\n",
    "\n",
    "## Q1.\n",
    "\n",
    "Encontre, utilizando a técnica de aprendizado de w-operadores vista em sala, o operador 1x3 (1 linha, 3 colunas) capaz de transformar a imagem src1 em dest1 (veja as variáveis abaixo) mostrando a tabela de padrões encontrada. Teste seu operador na imagem src1 e verifique que ele funciona como esperado. Teste seu operador nas imagens images/q1/1_test1.png e images/q1/1_test2.png desenhando as imagens obtidas (sugestão: use a função draw_img do arquivo mac0460_5832/utils.py)."
   ]
  },
  {
   "cell_type": "markdown",
   "metadata": {},
   "source": [
    "### Q1 - Passo 1: Estimação do operador \n",
    "Lista dos padrões encontrados como positivos para o operador"
   ]
  },
  {
   "cell_type": "code",
   "execution_count": null,
   "metadata": {
    "collapsed": false,
    "scrolled": true
   },
   "outputs": [],
   "source": [
    "src1 = read_img('images/q1/1_src.png')\n",
    "dest1 = read_img('images/q1/1_dest.png')\n",
    "\n",
    "trainingdata = [(src1,dest1)]\n",
    "se_mask = np.ones((1,3), dtype=bool)\n",
    "\n",
    "psi1 = w_operator(se_mask, trainingdata)\n",
    "\n",
    "for i in psi1.operator:\n",
    "    if (psi1.operator[i]):\n",
    "        print i"
   ]
  },
  {
   "cell_type": "markdown",
   "metadata": {},
   "source": [
    "### Q1 - Passo 2: Teste do operador encontrado na própria imagem de treino \n",
    "Funciona como esperado"
   ]
  },
  {
   "cell_type": "code",
   "execution_count": null,
   "metadata": {
    "collapsed": false
   },
   "outputs": [],
   "source": [
    "out1 = psi1.apply(src1)\n",
    "draw_img_pair(src1, out1)"
   ]
  },
  {
   "cell_type": "markdown",
   "metadata": {},
   "source": [
    "### Q1 - Passo 3: Teste do operador nas imagens de teste\n",
    "O operador não encontra a imagem correta pois, por ser um operador horizontal (1x3), \n",
    "não é capaz de detectar as bordas horizontais"
   ]
  },
  {
   "cell_type": "code",
   "execution_count": null,
   "metadata": {
    "collapsed": false
   },
   "outputs": [],
   "source": [
    "test1_1 = read_img('images/q1/1_test1.png')\n",
    "test1_2 = read_img('images/q1/1_test2.png')\n",
    "\n",
    "out1_1 = psi1.apply(test1_1)\n",
    "draw_img_pair(test1_1, out1_1)\n",
    "\n",
    "out1_2 = psi1.apply(test1_2)\n",
    "draw_img_pair(test1_2, out1_2)"
   ]
  },
  {
   "cell_type": "markdown",
   "metadata": {},
   "source": [
    "## Q2\n",
    "Aprenda o operador 3x3 para detecção de bordas. Treine seu operador nas imagens da pastas images/q2/ usando os pares (q2_src\\*.png, q2_dest\\*.png). Teste seu operador nas imagens images/q2/q2_test.png e images/q2/q2_test2.png. Algumas das imagens de treino são desenhadas abaixo."
   ]
  },
  {
   "cell_type": "markdown",
   "metadata": {},
   "source": [
    "### Q2 - Passo 1: Estimação do operador"
   ]
  },
  {
   "cell_type": "code",
   "execution_count": null,
   "metadata": {
    "collapsed": false
   },
   "outputs": [],
   "source": [
    "src2_1 = read_img_v2('images/q2/q2_src1.png')\n",
    "src2_2 = read_img_v2('images/q2/q2_src2.png')\n",
    "src2_3 = read_img_v2('images/q2/q2_src3.png')\n",
    "\n",
    "dest2_1 = read_img_v2('images/q2/q2_dest1.png')\n",
    "dest2_2 = read_img_v2('images/q2/q2_dest2.png')\n",
    "dest2_3 = read_img_v2('images/q2/q2_dest3.png')\n",
    "\n",
    "trainingdata = [(src2_1, dest2_1),(src2_2, dest2_2),(src2_3, dest2_3)]\n",
    "se_mask = np.ones((3,3), dtype=bool)\n",
    "\n",
    "psi2 = w_operator(se_mask, trainingdata)"
   ]
  },
  {
   "cell_type": "markdown",
   "metadata": {},
   "source": [
    "### Q2 Passo 2 - Teste do operador encontrado nas próprias imagens de treino "
   ]
  },
  {
   "cell_type": "code",
   "execution_count": null,
   "metadata": {
    "collapsed": false
   },
   "outputs": [],
   "source": [
    "out2_1 = psi2.apply(src2_1)\n",
    "draw_img_pair(src2_1, out2_1)\n",
    "\n",
    "out2_2 = psi2.apply(src2_2)\n",
    "draw_img_pair(src2_2, out2_2)\n",
    "\n",
    "out2_3 = psi2.apply(src2_3)\n",
    "draw_img_pair(src2_3, out2_3)"
   ]
  },
  {
   "cell_type": "markdown",
   "metadata": {},
   "source": [
    "### Q2 Passo 3 - Teste do operador nas imagens de teste"
   ]
  },
  {
   "cell_type": "code",
   "execution_count": null,
   "metadata": {
    "collapsed": false
   },
   "outputs": [],
   "source": [
    "src2_4 = read_img(\"images/q2/q2_test.png\")\n",
    "src2_5 = read_img(\"images/q2/q2_test2.png\")\n",
    "\n",
    "out2_4 = psi2.apply(src2_4)\n",
    "draw_img_pair(src2_4, out2_4)\n",
    "\n",
    "out2_5 = psi2.apply(src2_5)\n",
    "draw_img_pair(src2_5, out2_5)\n"
   ]
  },
  {
   "cell_type": "markdown",
   "metadata": {
    "deletable": true,
    "editable": true
   },
   "source": [
    "# Q3. \n",
    "Use o algoritmo de aprendizado para obter um operador capaz de eliminar ruído. Use no treinamento as imagens images/q3/q3_src\\*.png sempre com o mesmo target images/q3/q3_dest.png. Teste a janela com 5 elementos (cruz). Teste seu operador nas imagens images/q3/q3_test1.png e images/q3/q3_test2.png. Calcule e plote os erros $E_{in}$ e $E_{out}$ obtidos durante o treinamento."
   ]
  },
  {
   "cell_type": "code",
   "execution_count": null,
   "metadata": {
    "collapsed": false
   },
   "outputs": [],
   "source": [
    "dest3 = read_img('images/q3/q3_dest.png')\n",
    "\n",
    "src = []\n",
    "src.append(read_img('images/q3/q3_src1.png'))\n",
    "src.append(read_img('images/q3/q3_src2.png'))\n",
    "src.append(read_img('images/q3/q3_src3.png'))\n",
    "src.append(read_img('images/q3/q3_src4.png'))\n",
    "src.append(read_img('images/q3/q3_src5.png'))\n",
    "src.append(read_img('images/q3/q3_src6.png'))\n",
    "src.append(read_img('images/q3/q3_src7.png'))\n",
    "src.append(read_img('images/q3/q3_src8.png'))\n",
    "src.append(read_img('images/q3/q3_src9.png'))\n",
    "src.append(read_img('images/q3/q3_src10.png'))\n",
    "src.append(read_img('images/q3/q3_dest.png'))\n",
    "\n",
    "test = []\n",
    "test.append( ( read_img('images/q3/q3_test1.png'), dest3 ) )\n",
    "test.append( ( read_img('images/q3/q3_test2.png'), dest3 ) )      \n",
    "\n"
   ]
  },
  {
   "cell_type": "markdown",
   "metadata": {},
   "source": [
    "### Q3 Passo 1 - Treinamento e plot de Ein e Eout\n",
    "\n",
    "A cada exemplo de treinamento adicionado, é gerado um operador e são calculados os valores: \n",
    "* e_in: distância média da imagem dest3 para o resultado da aplicação do operador atual sobre as imagens de treinamento\n",
    "* e_out: distância média da imagem dest3 para o resultado da aplicação do operador atual sobre as imagens de teste\n",
    "\n",
    "Obs.: A distância entre as imagens é calculada desconsiderando a borda\n",
    "\n",
    "É possível observar no gráfico que, conforme mais imagens são adicionadas, tanto e_out (linha vermelha) quanto e_in decrescem rapidamente, até estabilizarem em valores bastante baixos\n"
   ]
  },
  {
   "cell_type": "code",
   "execution_count": null,
   "metadata": {
    "collapsed": false,
    "scrolled": true
   },
   "outputs": [],
   "source": [
    "se_mask = se_cross(1)\n",
    "psi3 = w_operator(se_mask)\n",
    "\n",
    "train = [(x, dest3) for x in src]\n",
    "\n",
    "ein = []\n",
    "eout = []\n",
    "\n",
    "for x in src:\n",
    "    psi3.add_training_example(x, dest3) # o operador eh automaticamente atualizado ao adicionar novos exemplos\n",
    "    train_i = psi3.transform(train)\n",
    "    test_i = psi3.transform(test)\n",
    "    ein.append(psi3.error(train_i))\n",
    "    eout.append(psi3.error(test_i))\n",
    "    \n",
    "import matplotlib.pyplot as plt\n",
    "plt.plot(ein, 'b')\n",
    "plt.plot(eout, 'r')\n",
    "plt.show()"
   ]
  },
  {
   "cell_type": "markdown",
   "metadata": {},
   "source": [
    "### Q3 passo 2 - Teste\n",
    "\n",
    "Aplicação do operador final (aprendido após os dez exemplos de treinamento serem adicionados) nas imagens de teste"
   ]
  },
  {
   "cell_type": "code",
   "execution_count": null,
   "metadata": {
    "collapsed": false
   },
   "outputs": [],
   "source": [
    "for test_in in [test[0][0], test[1][0]]:\n",
    "    test_out = psi3.apply(test_in)\n",
    "    draw_img_pair(test_in, test_out)"
   ]
  },
  {
   "cell_type": "markdown",
   "metadata": {
    "deletable": true,
    "editable": true
   },
   "source": [
    "## Q4. \n",
    "Projete um operador para aprender a extrair a letra 's' de imagens de texto. Para isso utilize os pares de imagens q4_src\\*.png q4_dest\\*.png da pasta images/q4/train. Teste seu operador nas imagens da pasta images/q4/test. Utilize a composição de janelas pequenas. Avalie o erro do seu operador comparando a saída obtida por ele com a saída esperada (imagens q4_gt\\*.png da pasta images/q4/test)."
   ]
  },
  {
   "cell_type": "code",
   "execution_count": null,
   "metadata": {
    "collapsed": false,
    "deletable": true,
    "editable": true,
    "scrolled": false
   },
   "outputs": [],
   "source": [
    "train = [\n",
    "(read_img(\"images/q4/train/q4_src1a.png\"), read_img(\"images/q4/train/q4_dest1a.png\")),\n",
    "(read_img(\"images/q4/train/q4_src3a.png\"), read_img(\"images/q4/train/q4_dest3a.png\")),\n",
    "(read_img(\"images/q4/train/q4_src5a.png\"), read_img(\"images/q4/train/q4_dest5a.png\")),\n",
    "(read_img(\"images/q4/train/q4_src7a.png\"), read_img(\"images/q4/train/q4_dest7a.png\")),\n",
    "(read_img(\"images/q4/train/q4_src9a.png\"), read_img(\"images/q4/train/q4_dest9a.png\")),\n",
    "(read_img(\"images/q4/train/q4_src1b.png\"), read_img(\"images/q4/train/q4_dest1b.png\")),\n",
    "(read_img(\"images/q4/train/q4_src3b.png\"), read_img(\"images/q4/train/q4_dest3b.png\")),\n",
    "(read_img(\"images/q4/train/q4_src5b.png\"), read_img(\"images/q4/train/q4_dest5b.png\")),\n",
    "(read_img(\"images/q4/train/q4_src7b.png\"), read_img(\"images/q4/train/q4_dest7b.png\")),\n",
    "(read_img(\"images/q4/train/q4_src9b.png\"), read_img(\"images/q4/train/q4_dest9b.png\")) ]\n",
    "\n",
    "\n",
    "test = [\n",
    "(read_img(\"images/q4/test/q4_test2a.png\"), read_img(\"images/q4/test/q4_gt2a.png\")),\n",
    "(read_img(\"images/q4/test/q4_test4a.png\"), read_img(\"images/q4/test/q4_gt4a.png\")),\n",
    "(read_img(\"images/q4/test/q4_test6a.png\"), read_img(\"images/q4/test/q4_gt6a.png\")),\n",
    "(read_img(\"images/q4/test/q4_test8a.png\"), read_img(\"images/q4/test/q4_gt8a.png\")),    \n",
    "(read_img(\"images/q4/test/q4_test10a.png\"), read_img(\"images/q4/test/q4_gt10a.png\")),    \n",
    "(read_img(\"images/q4/test/q4_test2b.png\"), read_img(\"images/q4/test/q4_gt2b.png\")),\n",
    "(read_img(\"images/q4/test/q4_test4b.png\"), read_img(\"images/q4/test/q4_gt4b.png\")),\n",
    "(read_img(\"images/q4/test/q4_test6b.png\"), read_img(\"images/q4/test/q4_gt6b.png\")),\n",
    "(read_img(\"images/q4/test/q4_test8b.png\"), read_img(\"images/q4/test/q4_gt8b.png\")),\n",
    "(read_img(\"images/q4/test/q4_test10b.png\"), read_img(\"images/q4/test/q4_gt10b.png\")) ]"
   ]
  },
  {
   "cell_type": "markdown",
   "metadata": {},
   "source": [
    "### Q4 - teste base\n",
    "\n",
    "Primeiramente, iremos aplicar diretamente os operadores de janela quadrada 3x3, 5x5, 7x7 e 9x9, sem composição, para avaliar o erro base. Também foram testados os elementos estrutrantes em forma de cruz e disco, mas tiveram desempenho inferior ao quadrado de mesma dimensão.\n",
    "\n",
    "Como se pode observar abaixo (apenas a primeira imagem de teste é desenhada para cada janela, mas o erro é calculado sobre todas as 10), a janela 3x3 deu resultados visualmente ruins, em que não é possível identificar as letras, enquanto na janela 5x5 as letras são identificáveis, mas há bastante ruído (pontos espalhados pela imagem), os quais esperamos remover com a técnica de composição. Para a 9x9 e 7x7, apesar do erro das amostras de treinamento (e_in) ter sido muito baixo, o erro no teste foi alto, pior do que a janela 5x5, por causa da variância ser muito alta dentro de uma janela grande (poucos exemplos de cada padrão)."
   ]
  },
  {
   "cell_type": "code",
   "execution_count": null,
   "metadata": {
    "collapsed": false
   },
   "outputs": [],
   "source": [
    "import time\n",
    "\n",
    "def runtest(psi, imgset):   \n",
    "    t0 = time.time()\n",
    "    resultset = psi.transform(imgset)\n",
    "    t1 = time.time()\n",
    "    draw_img_pair(resultset[0][0], resultset[0][1]) \n",
    "    print \"erro in : \", psi.error_in_sample()\n",
    "    print \"erro out: \", mean_dist(resultset)\n",
    "    print \"tempo: \", t1-t0\n",
    "    \n",
    "\n",
    "for i in range(1,5):\n",
    "    w = 2*i + 1    \n",
    "    print '\\n\\n-------------- janela ', w, 'x', w, ':'\n",
    "    psi4 = w_operator(se_box(i), train)\n",
    "    runtest(psi4, test)\n"
   ]
  },
  {
   "cell_type": "markdown",
   "metadata": {},
   "source": [
    "### Q4 - composição\n",
    "\n",
    "Foi feita então a composição de operadores sobre duas janelas 5x5, de forma que cada janela seja pequena o suficiente para não incorrer no problema da variância muito alta. \n",
    "Primeiro, é aprendido o operador psi41, a partir de 8 das 10 imagens de treinamento. Esse operador é, então aplicado ao conjunto inteiro de treinamento para gerar imagens transformadas intermediárias. Essas imagens transformadas são utilizadas como entrada para aprender um novo operador, psi42, utilizando um outro subconjunto das originais. \n",
    "\n",
    "Obs.: Foi testado também a divisão do conjunto de treinamento usando 5, 6, 7 e 9 membros em cada iteração, mas usar 8 gerou o melhor resultado.\n",
    "\n",
    "Nota-se nas imagens resultantes que o que acontece, aparentemente, é que o primeiro operador detecta algumas das letras 's', mas também confunde algumas outras que não são 's', ou seja, encontra falsos positivos. O segundo operador filtra esses falsos positivos, mesmo que a forma dos caracteres não seja ideal. Como ele acaba removendo a maior parte desses ruídos, o erro após a segunda iteração é principalmente devido à forma final das letras encontradas, que não é exata. Na terceira iteração, não se pode fazer muito em relação a isso, por isso não há mais melhora em relação à segunda."
   ]
  },
  {
   "cell_type": "code",
   "execution_count": null,
   "metadata": {
    "collapsed": false,
    "scrolled": true
   },
   "outputs": [],
   "source": [
    "# iteracao 1\n",
    "\n",
    "psi41 = w_operator(se_box(2), train[0:9])\n",
    "train1 = psi41.transform(train)\n",
    "iter1 = psi41.transform(test)\n",
    "\n",
    "print 'iteracao 1---'\n",
    "print 'error in: ', mean_dist(train1)\n",
    "print 'error out: ', mean_dist(iter1)\n",
    "draw_img_pair(iter1[1][0], iter1[1][1])\n",
    "\n",
    "# iteracao 2\n",
    "\n",
    "psi42 = w_operator(se_box(1), train1[1:10])\n",
    "train2 = psi42.transform(train1)\n",
    "iter2 = psi42.transform(iter1)\n",
    "\n",
    "print 'iteracao 2---'\n",
    "print 'error in: ', mean_dist(train2)\n",
    "print 'error out: ', mean_dist(iter2)\n",
    "draw_img_pair(iter2[1][0], iter2[1][1])\n",
    "\n",
    "# iteracao 3\n",
    "\n",
    "psi43 = w_operator(se_cross(1), train2)\n",
    "\n",
    "train3 = psi43.transform(train2)\n",
    "iter3 = psi43.transform(iter2)\n",
    "\n",
    "print 'iteracao 3---'\n",
    "print 'error in: ', mean_dist(train3)\n",
    "print 'error out: ', mean_dist(iter3)\n",
    "draw_img_pair(iter3[1][0], iter3[1][1])"
   ]
  },
  {
   "cell_type": "markdown",
   "metadata": {},
   "source": [
    "## Q5\n",
    "\n",
    "Utilizando a técnica de multiresolução, aprenda o operador capaz de remover ruído das imagens da pasta images/q5/. Utilize os pares de imagens (q5_src\\*.png, q5_dest.png) para o treinamento e depois teste seu  operador nas imagens q5_test1.png e q5_test2.png."
   ]
  },
  {
   "cell_type": "code",
   "execution_count": null,
   "metadata": {
    "collapsed": false
   },
   "outputs": [],
   "source": [
    "dest5 = read_img(\"images/q5/q5_dest.png\")\n",
    "\n",
    "src = [read_img(\"images/q5/q5_src1.png\"), read_img(\"images/q5/q5_src2.png\"),\n",
    "       read_img(\"images/q5/q5_src3.png\"), read_img(\"images/q5/q5_src4.png\"),\n",
    "       read_img(\"images/q5/q5_src5.png\"), read_img(\"images/q5/q5_src6.png\"),\n",
    "       read_img(\"images/q5/q5_src7.png\"), read_img(\"images/q5/q5_src8.png\"),\n",
    "       read_img(\"images/q5/q5_src9.png\"), read_img(\"images/q5/q5_src10.png\")]\n",
    "train = [(x, dest5) for x in src]\n",
    "\n",
    "test = [read_img(\"images/q5/q5_test1.png\"), read_img(\"images/q5/q5_src2.png\"),\n",
    "        read_img(\"images/q5/q5_test3.png\")]\n",
    "\n"
   ]
  },
  {
   "cell_type": "markdown",
   "metadata": {},
   "source": [
    "### Q5 - teste\n",
    "\n",
    "Para comparar o resultado, foram testados os seguintes operadores:\n",
    "    \n",
    "* resolução simples para o teste de base\n",
    "* multiresolução com quadrados dos tamanhos 9x9, 7x7, 5x5 e 3x3\n",
    "* multiresolução com funções ro com pixels cada vez mais espaçados, com objetivo de detectar os padrões que acontecem em áreas ruidosas\n",
    "\n",
    "Abaixo estão os testes, com a primeira imagem de teste para cada um dos operadores e o erro calculado sobre todas as imagens de teste para cada um deles. Conforme esperado, o melhor resultado foi o do último operador, com as funções ro de pixels espaçados, que obteve erro 0.00134. Visualmente, é possível perceber que esse operador fez um trabalho melhor, principalmente em fechar os buracos nos objetos (ruídos brancos sobre objetos pretos)"
   ]
  },
  {
   "cell_type": "code",
   "execution_count": null,
   "metadata": {
    "collapsed": false
   },
   "outputs": [],
   "source": [
    "ro_box = [se_box(3), se_box(2), se_box(1)]\n",
    "\n",
    "alt = [True,False,True,False,True]\n",
    "ro1 = np.array([alt, np.logical_not(alt), alt, np.logical_not(alt), alt])\n",
    "ro2 = np.array([alt, [False for i in range(5)], alt, [False for i in range(5)], alt])\n",
    "ro_multi = [se_box(3), ro1, ro2, se_cross(1)]\n",
    "\n",
    "psi5_box = w_operator(se_box(2), train)\n",
    "psi5_multibox = multiresolution(ro_box, train)\n",
    "psi5_multi_ro = multiresolution(ro_multi, train)\n",
    "\n",
    "print 'original'\n",
    "draw_img_pair(test[0], dest5)\n",
    "print ''\n",
    "print 'box 5x5'\n",
    "testres_box = [(psi5_box.apply(t), dest5) for t in test]\n",
    "draw_img_pair(testres_box[0][0], dest5)\n",
    "print 'erro: ', mean_dist(testres_box)\n",
    "print ''\n",
    "print 'multiresolucao com quadrados'\n",
    "testres_multibox = [(psi5_multibox.apply(t), dest5) for t in test]\n",
    "draw_img_pair(testres_multibox[0][0], dest5)\n",
    "print 'erro: ', mean_dist(testres_multibox)\n",
    "print ''\n",
    "print 'multiresolucao com funcoes ro alternando pixels sobre o quadrado'\n",
    "testres_multi = [(psi5_multi_ro.apply(t), dest5) for t in test]\n",
    "draw_img_pair(testres_multi[0][0], dest5)\n",
    "print 'erro: ', mean_dist(testres_multi)\n"
   ]
  },
  {
   "cell_type": "markdown",
   "metadata": {},
   "source": [
    "## Q6. \n",
    "Utilize a técnica de envelope, como visto em sala, para remover ruído de imagens. Use o mesmo dataset da questão anterior e as funções de morfologia disponíveis em mac0460_5832/utils.py para definir as funções $\\alpha$ e $\\beta$. Um exemplo de erosão em uma das imagens de treino é mostrado abaixo. Comente sobre a escolha das funções $\\alpha$ e $\\beta$."
   ]
  },
  {
   "cell_type": "markdown",
   "metadata": {},
   "source": [
    "### Q6 - escolha dos operadores\n",
    "\n",
    "A escolha da função beta, que deve ser po limite superior, ou seja, \"errar para mais\", deve tapar os buracos brancos dentro dos objetos. Por isso, foi escolhido fazer uma sequência fechamento->abertura\n",
    "\n",
    "Para a função alfa, que deve ser inferior, \"errando para menos\" e jogando fora o ruído preto sobre o background, foi escolhido usar uma sequência abertura->fechamento"
   ]
  },
  {
   "cell_type": "code",
   "execution_count": null,
   "metadata": {
    "collapsed": false
   },
   "outputs": [],
   "source": [
    "src6_1 = read_img(\"images/q5/q5_src1.png\")\n",
    "\n",
    "beta1 = dilation(src6_1, se_box(5))\n",
    "beta2 = erosion(beta1, se_box(5))\n",
    "beta3 = erosion(beta2, se_box(3))\n",
    "beta4 = dilation(beta3, se_box(3))\n",
    "beta5 = dilation(beta4, se_box(1))\n",
    "beta6 = erosion(beta5, se_box(1))\n",
    "\n",
    "alfa1 = erosion(src6_1, se_box(5))\n",
    "alfa2 = dilation(alfa1, se_box(5))\n",
    "alfa3 = dilation(alfa2, se_box(3))\n",
    "alfa4 = erosion(alfa3, se_box(3))\n",
    "alfa5 = erosion(alfa4, se_box(1))\n",
    "alfa6 = dilation(alfa5, se_box(1))\n",
    "\n",
    "\n",
    "print (' beta e alfa encontrados: ')\n",
    "draw_img_pair(beta4, alfa4)\n",
    "\n",
    "# aplicando a restricao do envelope\n",
    "\n",
    "def envelope(srcimg):\n",
    "    a = np.logical_or(srcimg, alfa4)\n",
    "    return np.logical_and(a, beta4)\n"
   ]
  },
  {
   "cell_type": "markdown",
   "metadata": {},
   "source": [
    "### Q6 Teste do operador restrito por envelope"
   ]
  },
  {
   "cell_type": "code",
   "execution_count": null,
   "metadata": {
    "collapsed": false
   },
   "outputs": [],
   "source": [
    "errortest = [(envelope(x), dest5) for x in test]\n",
    "print 'Error out: ', mean_dist(errortest)    "
   ]
  },
  {
   "cell_type": "markdown",
   "metadata": {},
   "source": [
    "## Q7. \n",
    "Utilize a técnica de envelope com multiresolução para aprender um operador capaz de remover ruído de imagens. Para cada uma das janelas, defina funções $\\alpha$ e $\\beta$ (podem ser diferentes). Compare o resultado obtido aplicando a mistura de técnicas com os resultados das duas questões anteriores."
   ]
  },
  {
   "cell_type": "markdown",
   "metadata": {},
   "source": [
    "### Q7 Resultado\n",
    "A aplicação das duas técnicas reduz o erro. Visualmente, é possível perceber que os cantos dos objetos, que na multiresolução não são detectados corretamente, são corrigidos pelo envelope"
   ]
  },
  {
   "cell_type": "code",
   "execution_count": null,
   "metadata": {
    "collapsed": false
   },
   "outputs": [],
   "source": [
    "m = psi5_multi_ro.apply(src6_1)\n",
    "\n",
    "print 'Exemplo: '\n",
    "draw_img_pair(m, envelope(m))\n",
    "\n",
    "errortest = [(envelope(t[0]), dest5) for t in testres_multi]\n",
    "print 'Error out: ', mean_dist(errortest)"
   ]
  },
  {
   "cell_type": "markdown",
   "metadata": {},
   "source": [
    "Q8. A função gen_rand_imgs abaixo retorna um par de imagens. A primeira contém alguns pontos gerados aleatoriamente. A segunda é a dilatação da primeira por um elemento estruturante em forma de cruz. Aprenda o operador capaz de realizar essa transformação, gerando os pares de src e dest. Crie os dados de treinamento baseado na equação vista em sala ($m(\\epsilon, \\delta, H) = \\frac{1}{\\epsilon}ln\\frac{|H|}{\\delta}$). Compare o resultado obtido pelo seu classificador (gere mais pares para teste e ter uma estimativa de $E_{out}$) para $\\epsilon = [0.2, 0.1]$ e $\\delta = [0.3, 0.2]$."
   ]
  },
  {
   "cell_type": "code",
   "execution_count": null,
   "metadata": {
    "collapsed": false
   },
   "outputs": [],
   "source": [
    "def gen_rand_imgs():\n",
    "    noise = np.zeros((20, 20)).astype(bool)\n",
    "    num_pixels = 20\n",
    "    x = np.random.randint(0, 20, num_pixels)\n",
    "    y = np.random.randint(0, 20, num_pixels)\n",
    "\n",
    "    for i in range(num_pixels):\n",
    "        noise[x[i], y[i]] = 1\n",
    "\n",
    "    return noise, dilation(noise, se_cross(1))\n",
    "\n",
    "src5_1, dest5_1 = gen_rand_imgs()\n",
    "src5_2, dest5_2 = gen_rand_imgs()\n",
    "draw_img_pair(src5_1, dest5_1)\n",
    "draw_img_pair(src5_2, dest5_2)"
   ]
  },
  {
   "cell_type": "code",
   "execution_count": null,
   "metadata": {
    "collapsed": true
   },
   "outputs": [],
   "source": []
  }
 ],
 "metadata": {
  "kernelspec": {
   "display_name": "Python 2",
   "language": "python",
   "name": "python2"
  },
  "language_info": {
   "codemirror_mode": {
    "name": "ipython",
    "version": 2
   },
   "file_extension": ".py",
   "mimetype": "text/x-python",
   "name": "python",
   "nbconvert_exporter": "python",
   "pygments_lexer": "ipython2",
   "version": "2.7.13"
  }
 },
 "nbformat": 4,
 "nbformat_minor": 2
}
