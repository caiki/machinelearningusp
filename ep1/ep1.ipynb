{
 "cells": [
  {
   "cell_type": "code",
   "execution_count": null,
   "metadata": {
    "collapsed": false,
    "deletable": true,
    "editable": true
   },
   "outputs": [],
   "source": [
    "%matplotlib inline\n",
    "import matplotlib.pyplot as plt\n",
    "import numpy as np\n",
    "import PIL\n",
    "\n",
    "from mac0460_5832.utils import *"
   ]
  },
  {
   "cell_type": "markdown",
   "metadata": {
    "deletable": true,
    "editable": true
   },
   "source": [
    "# MAC0460/5832 - Lista 1: Aprendizado de W-Operadores\n",
    "\n",
    "### Data de Entrega: 23h55m do dia 05/05/2017\n",
    "\n",
    "## Q1.\n",
    "\n",
    "Encontre, utilizando a técnica de aprendizado de w-operadores vista em sala, o operador 1x3 (1 linha, 3 colunas) capaz de transformar a imagem src1 em dest1 (veja as variáveis abaixo) mostrando a tabela de padrões encontrada. Teste seu operador na imagem src1 e verifique que ele funciona como esperado. Teste seu operador nas imagens images/q1/1_test1.png e images/q1/1_test2.png desenhando as imagens obtidas (sugestão: use a função draw_img do arquivo mac0460_5832/utils.py)."
   ]
  },
  {
   "cell_type": "code",
   "execution_count": null,
   "metadata": {
    "collapsed": false,
    "deletable": true,
    "editable": true
   },
   "outputs": [],
   "source": [
    "src1 = read_img('images/q1/1_src.png')\n",
    "dest1 = read_img('images/q1/1_dest.png')\n",
    "\n",
    "draw_img_pair(src1, dest1)\n",
    "\n",
    "test1_1 = read_img('images/q1/1_test1.png')\n",
    "test1_2 = read_img('images/q1/1_test2.png')\n",
    "draw_img(test1_1)\n",
    "draw_img(test1_2)"
   ]
  },
  {
   "cell_type": "markdown",
   "metadata": {},
   "source": [
    "### Q1 - Passo 1: Estimação do operador \n",
    "Lista dos padrões encontrados como positivos para o operador"
   ]
  },
  {
   "cell_type": "code",
   "execution_count": null,
   "metadata": {
    "collapsed": false,
    "scrolled": true
   },
   "outputs": [],
   "source": [
    "from mac0460_5832.q1 import *\n",
    "\n",
    "src1 = read_img('images/q1/1_src.png')\n",
    "dest1 = read_img('images/q1/1_dest.png')\n",
    "\n",
    "f = estimate_pattern_results(src1, dest1)\n",
    "operator = generate_operator(f)\n",
    "\n",
    "for pattern in operator:\n",
    "    #draw_img(np.array(pattern).reshape(1,3))\n",
    "    print pattern    "
   ]
  },
  {
   "cell_type": "markdown",
   "metadata": {},
   "source": [
    "### Q1 - Passo 2: Teste do operador encontrado na própria imagem de treino \n",
    "Funciona como esperado"
   ]
  },
  {
   "cell_type": "code",
   "execution_count": null,
   "metadata": {
    "collapsed": false
   },
   "outputs": [],
   "source": [
    "test_output0 = apply_operator(src1, operator)\n",
    "draw_img_pair(src1, test_output0)"
   ]
  },
  {
   "cell_type": "markdown",
   "metadata": {},
   "source": [
    "### Q1 - Passo 3: Teste do operador encontrado nas imagens de teste\n",
    "O operador não encontra a imagem correta pois, por ser um operador horizontal (1x3), \n",
    "não é capaz de detectar as bordas horizontais"
   ]
  },
  {
   "cell_type": "code",
   "execution_count": null,
   "metadata": {
    "collapsed": false
   },
   "outputs": [],
   "source": [
    "test_output1 = apply_operator(test1_1, operator)\n",
    "draw_img_pair(test1_1, test_output1)\n",
    "\n",
    "test_output2 = apply_operator(test1_2, operator)\n",
    "draw_img_pair(test1_2, test_output2)"
   ]
  },
  {
   "cell_type": "markdown",
   "metadata": {},
   "source": [
    "## Q2\n",
    "Aprenda o operador 3x3 para detecção de bordas. Treine seu operador nas imagens da pastas images/q2/ usando os pares (q2_src\\*.png, q2_dest\\*.png). Teste seu operador nas imagens images/q2/q2_test.png e images/q2/q2_test2.png. Algumas das imagens de treino são desenhadas abaixo."
   ]
  },
  {
   "cell_type": "code",
   "execution_count": null,
   "metadata": {
    "collapsed": false,
    "scrolled": false
   },
   "outputs": [],
   "source": [
    "src2_1 = read_img_v2('images/q2/q2_src1.png')\n",
    "src2_2 = read_img_v2('images/q2/q2_src2.png')\n",
    "src2_3 = read_img_v2('images/q2/q2_src3.png')\n",
    "\n",
    "dest2_1 = read_img_v2('images/q2/q2_dest1.png')\n",
    "dest2_2 = read_img_v2('images/q2/q2_dest2.png')\n",
    "dest2_3 = read_img_v2('images/q2/q2_dest3.png')\n",
    "\n",
    "\n",
    "draw_img_pair(src2_1, dest2_1)\n",
    "draw_img_pair(src2_2, dest2_2)\n",
    "draw_img_pair(src2_3, dest2_3)"
   ]
  },
  {
   "cell_type": "markdown",
   "metadata": {},
   "source": [
    "### Q2 - Passo 1: Estimação do operador"
   ]
  },
  {
   "cell_type": "code",
   "execution_count": null,
   "metadata": {
    "collapsed": false
   },
   "outputs": [],
   "source": [
    "from mac0460_5832.q2 import *\n",
    "\n",
    "trainingdata = [(src2_1, dest2_1),(src2_2, dest2_2),(src2_3, dest2_3)]\n",
    "\n",
    "f = estimate_pattern_results(trainingdata)\n",
    "operator = generate_operator(f)\n",
    "\n",
    "for pattern in operator:\n",
    "    #draw_img(np.array(pattern).reshape(1,3))\n",
    "    print pattern    "
   ]
  },
  {
   "cell_type": "markdown",
   "metadata": {},
   "source": [
    "### Q2 Passo 2 - Teste do operador encontrado nas próprias imagens de treino "
   ]
  },
  {
   "cell_type": "code",
   "execution_count": null,
   "metadata": {
    "collapsed": false
   },
   "outputs": [],
   "source": [
    "t1 = apply_operator(src2_1, operator)\n",
    "draw_img_pair(src2_1, t1)\n",
    "\n",
    "t2 = apply_operator(src2_2, operator)\n",
    "draw_img_pair(src2_2, t2)\n",
    "\n",
    "t3 = apply_operator(src2_3, operator)\n",
    "draw_img_pair(src2_3, t3)"
   ]
  },
  {
   "cell_type": "markdown",
   "metadata": {},
   "source": [
    "### Q2 Passo 3 - Teste do operador nas imagens de teste"
   ]
  },
  {
   "cell_type": "code",
   "execution_count": null,
   "metadata": {
    "collapsed": false
   },
   "outputs": [],
   "source": [
    "imgt1 = read_img(\"images/q2/q2_test.png\")\n",
    "imgt2 = read_img(\"images/q2/q2_test2.png\")\n",
    "\n",
    "t4 = apply_operator(imgt1, operator)\n",
    "draw_img_pair(imgt1, t4)\n",
    "\n",
    "t5 = apply_operator(imgt2, operator)\n",
    "draw_img_pair(imgt2, t5)\n"
   ]
  },
  {
   "cell_type": "markdown",
   "metadata": {
    "deletable": true,
    "editable": true
   },
   "source": [
    "Q3. Use o algoritmo de aprendizado para obter um operador capaz de eliminar ruído. Use no treinamento as imagens images/q3/q3_src\\*.png sempre com o mesmo target images/q3/q3_dest.png. Teste a janela com 5 elementos (cruz). Teste seu operador nas imagens images/q3/q3_test1.png e images/q3/q3_test2.png. Calcule e plote os erros $E_{in}$ e $E_{out}$ obtidos durante o treinamento."
   ]
  },
  {
   "cell_type": "code",
   "execution_count": null,
   "metadata": {
    "collapsed": false,
    "deletable": true,
    "editable": true,
    "scrolled": false
   },
   "outputs": [],
   "source": [
    "src3_1 = read_img('images/q3/q3_src1.png')\n",
    "src3_2 = read_img('images/q3/q3_src2.png')\n",
    "src3_3 = read_img('images/q3/q3_src3.png')\n",
    "src3_4 = read_img('images/q3/q3_src4.png')\n",
    "dest3 = read_img('images/q3/q3_dest.png')\n",
    "\n",
    "draw_img(dest3)\n",
    "\n",
    "draw_img_pair(src3_1, dest3)\n",
    "draw_img_pair(src3_2, dest3)\n",
    "draw_img_pair(src3_3, dest3)"
   ]
  },
  {
   "cell_type": "code",
   "execution_count": null,
   "metadata": {
    "collapsed": false
   },
   "outputs": [],
   "source": [
    "dest3"
   ]
  },
  {
   "cell_type": "markdown",
   "metadata": {
    "deletable": true,
    "editable": true
   },
   "source": [
    "Q4. Projete um operador para aprender a extrair a letra 's' de imagens de texto. Para isso utilize os pares de imagens q4_src\\*.png q4_dest\\*.png da pasta images/q4/train. Teste seu operador nas imagens da pasta images/q4/test. Utilize a composição de janelas pequenas. Avalie o erro do seu operador comparando a saída obtida por ele com a saída esperada (imagens q4_gt\\*.png da pasta images/q4/test)."
   ]
  },
  {
   "cell_type": "code",
   "execution_count": null,
   "metadata": {
    "collapsed": false,
    "deletable": true,
    "editable": true,
    "scrolled": false
   },
   "outputs": [],
   "source": [
    "dest4_1a = read_img(\"images/q4/train/q4_dest1a.png\")\n",
    "src4_1a = read_img(\"images/q4/train/q4_src1a.png\")\n",
    "dest4_1b = read_img(\"images/q4/train/q4_dest1b.png\")\n",
    "src4_1b = read_img(\"images/q4/train/q4_src1b.png\")\n",
    "draw_img_pair(src4_1a, dest4_1a, figsz=(15, 6))\n",
    "draw_img_pair(src4_1b, dest4_1b, figsz=(15, 6))"
   ]
  },
  {
   "cell_type": "markdown",
   "metadata": {},
   "source": [
    "Q5. Utilizando a técnica de multiresolução, aprenda o operador capaz de remover ruído das imagens da pasta images/q5/. Utilize os pares de imagens (q5_src\\*.png, q5_dest.png) para o treinamento e depois teste seu  operador nas imagens q5_test1.png e q5_test2.png."
   ]
  },
  {
   "cell_type": "code",
   "execution_count": null,
   "metadata": {
    "collapsed": false
   },
   "outputs": [],
   "source": [
    "dest5 = read_img(\"images/q5/q5_dest.png\")\n",
    "src5_1 = read_img(\"images/q5/q5_src1.png\")\n",
    "src5_2 = read_img(\"images/q5/q5_src2.png\")\n",
    "draw_img(dest5)\n",
    "draw_img(src5_1)\n",
    "draw_img(src5_2)"
   ]
  },
  {
   "cell_type": "markdown",
   "metadata": {},
   "source": [
    "Q6. Utilize a técnica de envelope, como visto em sala, para remover ruído de imagens. Use o mesmo dataset da questão anterior e as funções de morfologia disponíveis em mac0460_5832/utils.py para definir as funções $\\alpha$ e $\\beta$. Um exemplo de erosão em uma das imagens de treino é mostrado abaixo. Comente sobre a escolha das funções $\\alpha$ e $\\beta$."
   ]
  },
  {
   "cell_type": "code",
   "execution_count": null,
   "metadata": {
    "collapsed": false
   },
   "outputs": [],
   "source": [
    "src6_1 = read_img(\"images/q5/q5_src1.png\")\n",
    "draw_img(erosion(src6_1, se_box(2)))"
   ]
  },
  {
   "cell_type": "markdown",
   "metadata": {},
   "source": [
    "Q7. Utilize a técnica de envelope com multiresolução para aprender um operador capaz de remover ruído de imagens. Para cada uma das janelas, defina funções $\\alpha$ e $\\beta$ (podem ser diferentes). Compare o resultado obtido aplicando a mistura de técnicas com os resultados das duas questões anteriores."
   ]
  },
  {
   "cell_type": "code",
   "execution_count": null,
   "metadata": {
    "collapsed": true
   },
   "outputs": [],
   "source": []
  },
  {
   "cell_type": "markdown",
   "metadata": {},
   "source": [
    "Q8. A função gen_rand_imgs abaixo retorna um par de imagens. A primeira contém alguns pontos gerados aleatoriamente. A segunda é a dilatação da primeira por um elemento estruturante em forma de cruz. Aprenda o operador capaz de realizar essa transformação, gerando os pares de src e dest. Crie os dados de treinamento baseado na equação vista em sala ($m(\\epsilon, \\delta, H) = \\frac{1}{\\epsilon}ln\\frac{|H|}{\\delta}$). Compare o resultado obtido pelo seu classificador (gere mais pares para teste e ter uma estimativa de $E_{out}$) para $\\epsilon = [0.2, 0.1]$ e $\\delta = [0.3, 0.2]$."
   ]
  },
  {
   "cell_type": "code",
   "execution_count": null,
   "metadata": {
    "collapsed": false
   },
   "outputs": [],
   "source": [
    "def gen_rand_imgs():\n",
    "    noise = np.zeros((20, 20)).astype(bool)\n",
    "    num_pixels = 20\n",
    "    x = np.random.randint(0, 20, num_pixels)\n",
    "    y = np.random.randint(0, 20, num_pixels)\n",
    "\n",
    "    for i in range(num_pixels):\n",
    "        noise[x[i], y[i]] = 1\n",
    "\n",
    "    return noise, dilation(noise, se_cross(1))\n",
    "\n",
    "src5_1, dest5_1 = gen_rand_imgs()\n",
    "src5_2, dest5_2 = gen_rand_imgs()\n",
    "draw_img_pair(src5_1, dest5_1)\n",
    "draw_img_pair(src5_2, dest5_2)"
   ]
  },
  {
   "cell_type": "code",
   "execution_count": null,
   "metadata": {
    "collapsed": true
   },
   "outputs": [],
   "source": []
  }
 ],
 "metadata": {
  "kernelspec": {
   "display_name": "Python 2",
   "language": "python",
   "name": "python2"
  },
  "language_info": {
   "codemirror_mode": {
    "name": "ipython",
    "version": 2
   },
   "file_extension": ".py",
   "mimetype": "text/x-python",
   "name": "python",
   "nbconvert_exporter": "python",
   "pygments_lexer": "ipython2",
   "version": "2.7.13"
  }
 },
 "nbformat": 4,
 "nbformat_minor": 2
}
